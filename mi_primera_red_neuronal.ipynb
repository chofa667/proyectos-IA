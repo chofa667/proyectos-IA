{
  "nbformat": 4,
  "nbformat_minor": 0,
  "metadata": {
    "colab": {
      "name": "mi primera red neuronal.ipynb",
      "provenance": [],
      "collapsed_sections": []
    },
    "kernelspec": {
      "name": "python3",
      "display_name": "Python 3"
    }
  },
  "cells": [
    {
      "cell_type": "code",
      "metadata": {
        "id": "pNzElcrD7SeC",
        "colab_type": "code",
        "colab": {}
      },
      "source": [
        "import numpy as np\n",
        "import matplotlib.pyplot as plt\n",
        "import scipy as sc\n",
        "from sklearn.datasets import make_circles"
      ],
      "execution_count": 0,
      "outputs": []
    },
    {
      "cell_type": "code",
      "metadata": {
        "id": "M7QzXgUl8Ipr",
        "colab_type": "code",
        "colab": {
          "base_uri": "https://localhost:8080/",
          "height": 265
        },
        "outputId": "3ffa27c6-c1c2-4588-cf70-ec6a8cc05b07"
      },
      "source": [
        "# CREAR EL DATASET\n",
        "\n",
        "n = 500\n",
        "p = 2\n",
        "\n",
        "x,y = make_circles(n_samples=n,factor=0.5,noise=0.05)\n",
        "\n",
        "plt.scatter(x[y == 0,0],x[y == 0,1], c =\"blue\")\n",
        "plt.scatter(x[y == 1,0],x[y == 1,1], c =\"red\")\n",
        "plt.axis(\"equal\")\n",
        "plt.show()"
      ],
      "execution_count": 6,
      "outputs": [
        {
          "output_type": "display_data",
          "data": {
            "image/png": "[encoded data removed]",
            "text/plain": [
              "<Figure size 432x288 with 1 Axes>"
            ]
          },
          "metadata": {
            "tags": [],
            "needs_background": "light"
          }
        }
      ]
    },
    {
      "cell_type": "code",
      "metadata": {
        "id": "QomDN-BZAIZz",
        "colab_type": "code",
        "colab": {}
      },
      "source": [
        "#CLASE DE LA CAPA DE LA RED\n",
        "class neural_layer():\n",
        "  def __init__(self,n_conn,n_neur,act_f):\n",
        "    \n",
        "    self.act_f = act_f\n",
        "\n",
        "    self.b = np.random.rand(1,n_neur)      * 2 - 1\n",
        "    self.W = np.random.rand(n_conn,n_neur) * 2 - 1 \n",
        "\n",
        "\n"
      ],
      "execution_count": 0,
      "outputs": []
    },
    {
      "cell_type": "code",
      "metadata": {
        "id": "e1ofXt5xBVL3",
        "colab_type": "code",
        "colab": {
          "base_uri": "https://localhost:8080/",
          "height": 282
        },
        "outputId": "3d875c44-1e88-477c-c028-16eeee24ec74"
      },
      "source": [
        "# FUNCIONES DE ACTIVACION\n",
        "\n",
        "sign = (lambda x: 1 / (1 + np.e ** (-x)),\n",
        "        lambda x: x * (1 - x))\n",
        "\n",
        "_x = np.linspace(-5,5,100)\n",
        "plt.plot(_x,sign[0](_x))"
      ],
      "execution_count": 15,
      "outputs": [
        {
          "output_type": "execute_result",
          "data": {
            "text/plain": [
              "[<matplotlib.lines.Line2D at 0x7fa3a2ecbfd0>]"
            ]
          },
          "metadata": {
            "tags": []
          },
          "execution_count": 15
        },
        {
          "output_type": "display_data",
          "data": {
            "image/png": "[encoded data removed]",
            "text/plain": [
              "<Figure size 432x288 with 1 Axes>"
            ]
          },
          "metadata": {
            "tags": [],
            "needs_background": "light"
          }
        }
      ]
    },
    {
      "cell_type": "code",
      "metadata": {
        "id": "7TyvwgLvFAYJ",
        "colab_type": "code",
        "colab": {
          "base_uri": "https://localhost:8080/",
          "height": 119
        },
        "outputId": "471a61be-6563-491b-a874-daa72c7f14fa"
      },
      "source": [
        "l0 = neural_layer(p,4,sign)\n",
        "l1 = neural_layer(4,8,sign)\n",
        "\n",
        "def create_nn(topology,act_f):\n",
        "\n",
        "  nn = []\n",
        "\n",
        "  for l,layer in enumerate(topology[:-1]):\n",
        "\n",
        "    nn.append(neural_layer(topology[l],topology[l+1],act_f))\n",
        "  return nn\n",
        "\n",
        "topology = [p,4,8,16,8,4,1]\n",
        "\n",
        "create_nn(topology,sign)\n",
        "\n"
      ],
      "execution_count": 16,
      "outputs": [
        {
          "output_type": "execute_result",
          "data": {
            "text/plain": [
              "[<__main__.neural_layer at 0x7fa3a3094b00>,\n",
              " <__main__.neural_layer at 0x7fa3a3094d30>,\n",
              " <__main__.neural_layer at 0x7fa3a3094a90>,\n",
              " <__main__.neural_layer at 0x7fa3a3094be0>,\n",
              " <__main__.neural_layer at 0x7fa3a3094b70>,\n",
              " <__main__.neural_layer at 0x7fa3a3094c18>]"
            ]
          },
          "metadata": {
            "tags": []
          },
          "execution_count": 16
        }
      ]
    }
  ]
}